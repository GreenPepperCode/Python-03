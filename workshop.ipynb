{
 "cells": [
  {
   "cell_type": "markdown",
   "metadata": {},
   "source": [
    "Une fonction main est souvent considérée comme le point d'entrée d'un programme, en particulier dans de nombreux langages de programmation tels que C, C++, et Java. En Python, bien qu'elle ne soit pas obligatoire, la fonction main est utilisée par convention comme le point de départ du script"
   ]
  },
  {
   "cell_type": "code",
   "execution_count": 7,
   "metadata": {},
   "outputs": [
    {
     "name": "stdout",
     "output_type": "stream",
     "text": [
      "La fonction main a renvoyé: 42\n"
     ]
    }
   ],
   "source": [
    "def main():\n",
    "    # Exemple de retour d'un entier\n",
    "    return 42  # Vous pouvez renvoyer n'importe quel entier\n",
    "\n",
    "# Exécuter la fonction main si le script est le point d'entrée principal\n",
    "if __name__ == \"__main__\":\n",
    "    result = main()\n",
    "    print(\"La fonction main a renvoyé:\", result)\n"
   ]
  },
  {
   "cell_type": "code",
   "execution_count": 8,
   "metadata": {},
   "outputs": [],
   "source": [
    "def main():\n",
    "    # Demande le nom du joueur et le stocke dans la variable userName\n",
    "    userName = input(\"Entrez votre nom : \")\n",
    "    \n",
    "    # Vous pouvez utiliser la variable userName ici\n",
    "    # ...\n",
    "\n",
    "    return 0\n",
    "\n",
    "if __name__ == \"__main__\":\n",
    "    main()\n"
   ]
  },
  {
   "cell_type": "code",
   "execution_count": 9,
   "metadata": {},
   "outputs": [
    {
     "name": "stdout",
     "output_type": "stream",
     "text": [
      "Philippe pense à un nombre entre 0 et 100.\n"
     ]
    }
   ],
   "source": [
    "def main():\n",
    "    userName = input(\"Entrez votre nom : \")\n",
    "    \n",
    "    # Définition des variables minValue et maxValue\n",
    "    minValue = 0\n",
    "    maxValue = 100\n",
    "\n",
    "    # Affichage des instructions avec les valeurs des variables\n",
    "    print(f\"{userName} pense à un nombre entre {minValue} et {maxValue}.\")\n",
    "\n",
    "    return 0\n",
    "\n",
    "if __name__ == \"__main__\":\n",
    "    main()\n"
   ]
  },
  {
   "cell_type": "code",
   "execution_count": 10,
   "metadata": {},
   "outputs": [
    {
     "name": "stdout",
     "output_type": "stream",
     "text": [
      "Philippe, pense à un nombre entre 0 et 100.\n",
      "Nombre trouvé en 7 essais!\n"
     ]
    }
   ],
   "source": [
    "def main():\n",
    "    userName = input(\"Entrez votre nom : \")\n",
    "    minValue = 0\n",
    "    maxValue = 100\n",
    "    print(f\"{userName}, pense à un nombre entre {minValue} et {maxValue}.\")\n",
    "\n",
    "    compteur = 0\n",
    "    trouvée = False\n",
    "\n",
    "    while not trouvée:\n",
    "        compteur += 1\n",
    "        guess = (minValue + maxValue) // 2\n",
    "        reponse = input(f\"Est-ce que le nombre est {guess}? (oui/plus grand/plus petit): \").lower()\n",
    "\n",
    "        if reponse == \"oui\":\n",
    "            trouvée = True\n",
    "        elif reponse == \"plus grand\":\n",
    "            minValue = guess + 1\n",
    "        elif reponse == \"plus petit\":\n",
    "            maxValue = guess - 1\n",
    "\n",
    "    print(f\"Nombre trouvé en {compteur} essais!\")\n",
    "\n",
    "if __name__ == \"__main__\":\n",
    "    main()\n"
   ]
  },
  {
   "cell_type": "code",
   "execution_count": 4,
   "metadata": {},
   "outputs": [
    {
     "name": "stdout",
     "output_type": "stream",
     "text": [
      "Bienvenue au jeu de devinettes!\n",
      "Salut Philippe ! Pensez à un nombre entre 1 et 100.\n",
      "J'ai deviné votre nombre! C'était 21, trouvé en 5 tentatives.\n"
     ]
    }
   ],
   "source": [
    "def main():\n",
    "    # Étape 1 : Affichage du message de bienvenue\n",
    "    print(\"Bienvenue au jeu de devinettes!\")\n",
    "\n",
    "    # Étape 2 : Demande du nom de l'utilisateur\n",
    "    user_name = input(\"Quel est votre nom ? \")\n",
    "    print(f\"Salut {user_name} ! Pensez à un nombre entre 1 et 100.\")\n",
    "\n",
    "    # Initialisation des variables pour la dichotomie\n",
    "    min_val = 1\n",
    "    max_val = 100\n",
    "    compteur = 0\n",
    "\n",
    "    # Étape 3 : Boucle principale du jeu pour deviner le nombre\n",
    "    while True:\n",
    "        compteur += 1\n",
    "        guess = (min_val + max_val) // 2\n",
    "        reponse = input(f\"Est-ce que votre nombre est {guess}? (oui/plus grand/>, moins/</=): \").lower()\n",
    "\n",
    "        # Étape 4 : Traitement de la réponse de l'utilisateur\n",
    "        if reponse in [\"oui\", \"=\"]:\n",
    "            break\n",
    "        elif reponse in [\"plus grand\", \">\"]:\n",
    "            min_val = guess + 1\n",
    "        elif reponse in [\"moins\", \"<\"]:\n",
    "            max_val = guess - 1\n",
    "\n",
    "    # Étape 5 : Affichage du résultat final\n",
    "    print(f\"J'ai deviné votre nombre! C'était {guess}, trouvé en {compteur} tentatives.\")\n",
    "\n",
    "# Vérifie si le script est exécuté directement\n",
    "if __name__ == \"__main__\":\n",
    "    main()\n"
   ]
  },
  {
   "cell_type": "markdown",
   "metadata": {},
   "source": [
    "Améliorons un peu ce projet ! New Features\n",
    "   - on laisse le choix de l'intervalle a l'utilisateur\n",
    "   - on gére l'utilisation de <>= en plus du texte\n",
    "   - Gestion de la cohèrence des intervales\n",
    "   - Validation des entrées utilisateurs\n",
    "   - choix de qui devine\n",
    "   - on gére l'utilisation de +-"
   ]
  },
  {
   "cell_type": "code",
   "execution_count": 3,
   "metadata": {},
   "outputs": [
    {
     "name": "stdout",
     "output_type": "stream",
     "text": [
      "Bienvenue au jeu de devinettes !\n"
     ]
    },
    {
     "name": "stdout",
     "output_type": "stream",
     "text": [
      "Salut Philippe ! Pensez à un nombre.\n"
     ]
    }
   ],
   "source": [
    "import random\n",
    "\n",
    "def user_game():\n",
    "    # Laissez l'utilisateur choisir la plage de nombres\n",
    "    min_val, max_val = None, None\n",
    "    while min_val is None or max_val is None or min_val >= max_val:\n",
    "        try:\n",
    "            min_val = int(input(\"Entrez la valeur minimale : \"))\n",
    "            max_val = int(input(\"Entrez la valeur maximale : \"))\n",
    "            if min_val >= max_val:\n",
    "                print(\"Erreur: La valeur minimale doit être inférieure à la valeur maximale.\")\n",
    "        except ValueError:\n",
    "            print(\"Veuillez entrer des nombres valides.\")\n",
    "\n",
    "    # Génération aléatoire du nombre à deviner\n",
    "    nombre_secret = random.randint(min_val, max_val)\n",
    "    nombre_essais = 0\n",
    "    essai = None\n",
    "    while essai != nombre_secret:\n",
    "        try:\n",
    "            essai = int(input(f\"Devinez le nombre entre {min_val} et {max_val} : \"))\n",
    "            nombre_essais += 1\n",
    "\n",
    "            if essai < nombre_secret:\n",
    "                print(\"C'est plus !\")\n",
    "            elif essai > nombre_secret:\n",
    "                print(\"C'est moins !\")\n",
    "        except ValueError:\n",
    "            print(\"Veuillez entrer un nombre valide.\")\n",
    "    \n",
    "    print(f\"Félicitations ! Vous avez trouvé le nombre en {nombre_essais} essais.\")\n",
    "\n",
    "def computer_game():\n",
    "    print(\"Bienvenue au jeu de devinettes, où l'ordinateur doit deviner votre nombre !\")\n",
    "    nom = input(\"Quel est votre nom ? \")\n",
    "    print(f\"Salut {nom} ! Pensez à un nombre.\")\n",
    "\n",
    "    min_val, max_val = None, None\n",
    "    while min_val is None or max_val is None or min_val > max_val:\n",
    "        try:\n",
    "            min_val = int(input(\"Saisissez la valeur minimale de votre intervalle : \"))\n",
    "            max_val = int(input(\"Saissisez la valeur maximale de votre intervalle : \"))\n",
    "            if min_val > max_val:\n",
    "                print(\"La valeur minimale doit être inférieure à la valeur maximale. Veuillez réessayer.\")\n",
    "        except ValueError:\n",
    "            print(\"Veuillez saisir des nombres valides.\")\n",
    "\n",
    "    compteur = 0\n",
    "    guess = None\n",
    "    while guess is None or reponse not in [\"oui\", \"=\"]:\n",
    "        compteur += 1\n",
    "        guess = (min_val + max_val) // 2\n",
    "        reponse = input(f\"Est-ce que votre nombre est {guess}? (oui/plus grand/>/+, moins/</plus petit - ou =): \").lower()\n",
    "\n",
    "        if reponse in [\"plus grand\", \">\", \"plus\", \"+\"]:\n",
    "            min_val = guess + 1\n",
    "        elif reponse in [\"moins\", \"<\", \"plus petit\", \"-\"]:\n",
    "            max_val = guess - 1\n",
    "\n",
    "    print(f\"J'ai deviné votre nombre! C'était {guess}, trouvé en {compteur} tentatives.\")\n",
    "\n",
    "def main():\n",
    "    print(\"Bienvenue au jeu de devinettes !\")\n",
    "    choix = None\n",
    "    while choix not in ['joueur', 'programme', 'quitter']:\n",
    "        choix = input(\"Qui doit deviner le nombre ? Tapez 'joueur', 'programme' ou 'quitter' pour sortir : \").lower()\n",
    "        if choix == 'joueur':\n",
    "            user_game()\n",
    "        elif choix == 'programme':\n",
    "            computer_game()\n",
    "        elif choix == 'quitter':\n",
    "            print(\"Au revoir !\")\n",
    "            break\n",
    "        else:\n",
    "            print(\"Choix non reconnu. Veuillez choisir entre 'joueur', 'programme' et 'quitter'.\")\n",
    "\n",
    "if __name__ == \"__main__\":\n",
    "    main()"
   ]
  }
 ],
 "metadata": {
  "kernelspec": {
   "display_name": "Python 3",
   "language": "python",
   "name": "python3"
  },
  "language_info": {
   "codemirror_mode": {
    "name": "ipython",
    "version": 3
   },
   "file_extension": ".py",
   "mimetype": "text/x-python",
   "name": "python",
   "nbconvert_exporter": "python",
   "pygments_lexer": "ipython3",
   "version": "3.12.0"
  }
 },
 "nbformat": 4,
 "nbformat_minor": 2
}

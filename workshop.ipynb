{
 "cells": [
  {
   "cell_type": "markdown",
   "metadata": {},
   "source": [
    "Une fonction main est souvent considérée comme le point d'entrée d'un programme, en particulier dans de nombreux langages de programmation tels que C, C++, et Java. En Python, bien qu'elle ne soit pas obligatoire, la fonction main est utilisée par convention comme le point de départ du script"
   ]
  },
  {
   "cell_type": "code",
   "execution_count": 4,
   "metadata": {},
   "outputs": [
    {
     "name": "stdout",
     "output_type": "stream",
     "text": [
      "Bienvenue au jeu de devinettes!\n",
      "Salut Philippe ! Pensez à un nombre entre 1 et 100.\n",
      "J'ai deviné votre nombre! C'était 21, trouvé en 5 tentatives.\n"
     ]
    }
   ],
   "source": [
    "def main():\n",
    "    print(\"Bienvenue au jeu de devinettes!\")\n",
    "    nom = input(\"Quel est votre nom ? \")\n",
    "    print(f\"Salut {nom} ! Pensez à un nombre entre 1 et 100.\")\n",
    "\n",
    "    min_val = 1\n",
    "    max_val = 100\n",
    "    compteur = 0\n",
    "\n",
    "    while True:\n",
    "        compteur += 1\n",
    "        guess = (min_val + max_val) // 2\n",
    "        reponse = input(f\"Est-ce que votre nombre est {guess}? (oui/plus grand/>, moins/</=): \").lower()\n",
    "\n",
    "        if reponse in [\"oui\", \"=\"]:\n",
    "            break\n",
    "        elif reponse in [\"plus grand\", \">\"]:\n",
    "            min_val = guess + 1\n",
    "        elif reponse in [\"moins\", \"<\"]:\n",
    "            max_val = guess - 1\n",
    "\n",
    "    print(f\"J'ai deviné votre nombre! C'était {guess}, trouvé en {compteur} tentatives.\")\n",
    "\n",
    "if __name__ == \"__main__\":\n",
    "    main()\n"
   ]
  }
 ],
 "metadata": {
  "kernelspec": {
   "display_name": "Python 3",
   "language": "python",
   "name": "python3"
  },
  "language_info": {
   "codemirror_mode": {
    "name": "ipython",
    "version": 3
   },
   "file_extension": ".py",
   "mimetype": "text/x-python",
   "name": "python",
   "nbconvert_exporter": "python",
   "pygments_lexer": "ipython3",
   "version": "3.12.0"
  }
 },
 "nbformat": 4,
 "nbformat_minor": 2
}
